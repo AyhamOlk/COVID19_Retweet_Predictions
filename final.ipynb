{
 "cells": [
  {
   "cell_type": "code",
   "execution_count": 1,
   "metadata": {},
   "outputs": [],
   "source": [
    "import csv\n",
    "import numpy as np\n",
    "import matplotlib.pyplot as plt\n",
    "import pandas as pd\n",
    "from sklearn.metrics import mean_absolute_error\n",
    "from sklearn.model_selection import cross_val_score\n",
    "from sklearn.model_selection import train_test_split\n",
    "from datetime import datetime"
   ]
  },
  {
   "cell_type": "code",
   "execution_count": 2,
   "metadata": {},
   "outputs": [],
   "source": [
    "tweets = pd.read_csv('data/train.csv')\n",
    "eval_ds = pd.read_csv('data/evaluation.csv')"
   ]
  },
  {
   "cell_type": "markdown",
   "metadata": {},
   "source": [
    "Cleaning the datas"
   ]
  },
  {
   "cell_type": "code",
   "execution_count": 3,
   "metadata": {},
   "outputs": [],
   "source": [
    "def day(t):\n",
    "    dt = datetime.fromtimestamp(t / 1000)\n",
    "    return dt.day\n",
    "\n",
    "def clean(df):\n",
    "    X = df.copy()\n",
    "    X.timestamp = X.timestamp.apply(day)\n",
    "    X.user_verified = X.user_verified.fillna(False).astype(int)\n",
    "    X.user_statuses_count = X.user_statuses_count.fillna(0)\n",
    "    X.user_followers_count = X.user_followers_count.fillna(0)\n",
    "    X.user_friends_count = X.user_friends_count.fillna(0)\n",
    "    X.user_mentions = X.user_mentions.fillna('').apply(lambda x: int(bool(x)))\n",
    "    X.hashtags = X.hashtags.fillna('').astype(bool).astype(int)\n",
    "    X.text = X.text.fillna('')\n",
    "    X.urls = X.urls.fillna('')\n",
    "    X.urls = X.urls.apply(lambda x: int(bool(x))) + X.text.apply(lambda x: int(bool('http' in x)))\n",
    "    X.urls = X.urls.apply(lambda x: 1 if x==2 else x)\n",
    "    X.drop('id', axis=1, inplace=True)\n",
    "    return X"
   ]
  },
  {
   "cell_type": "markdown",
   "metadata": {},
   "source": [
    "Insert a column for categories of words that get a high number of retweets"
   ]
  },
  {
   "cell_type": "code",
   "execution_count": 304,
   "metadata": {},
   "outputs": [],
   "source": [
    "def insert_or(words, title, df):\n",
    "    if title not in df.columns:\n",
    "        df.insert(0, title, df.text.apply(lambda x: int(bool([1 for w in words if w in x.lower()]))))\n",
    "        \n",
    "def insert_cat(df):\n",
    "    X = df.copy()\n",
    "    trump = ['president', 'trump', 'donald', 'dt']\n",
    "    insert_or(trump, 'trump', X)\n",
    "    virus = ['virus', 'corona', 'covid', 'sick', 'flu']\n",
    "    insert_or(virus, 'virus', X)\n",
    "    doctor = ['doctor', 'nurse', 'kid', 'hospital', 'administration', 'medical', 'save']\n",
    "    insert_or(doctor, 'doctor', X)\n",
    "    america = ['america', 'democrat']\n",
    "    insert_or(america, 'america', X)\n",
    "    china = ['chin', 'wuhan']\n",
    "    insert_or(china, 'china', X)\n",
    "    handwash = ['hand', 'wash']\n",
    "    insert_or(handwash, 'handwash', X)\n",
    "    return X\n",
    "\n",
    "def insert_big_cat(df):\n",
    "    X = df.copy()\n",
    "    words = ['president', 'trump', 'donald', 'dt', 'virus', 'corona', 'covid', 'sick', 'flu', \\\n",
    "             'doctor', 'nurse', 'kid', 'hospital', 'administration', 'medical', 'save', 'america', \\\n",
    "             'democrat', 'chin', 'wuhan', 'hand', 'wash']\n",
    "    insert_or(words, 'words', X)\n",
    "    return X\n",
    "\n",
    "def transform(df):\n",
    "    X = df.copy()\n",
    "    X = clean(X)\n",
    "    X = insert_cat(X)\n",
    "    if 'text' in X.columns:\n",
    "        X.insert(0, 'words_count', X.text.apply(lambda x: min(140, len(x.split(' ')))))\n",
    "        X.drop('text', axis=1, inplace=True)\n",
    "    return X"
   ]
  },
  {
   "cell_type": "code",
   "execution_count": 305,
   "metadata": {},
   "outputs": [
    {
     "data": {
      "text/html": [
       "<div>\n",
       "<style scoped>\n",
       "    .dataframe tbody tr th:only-of-type {\n",
       "        vertical-align: middle;\n",
       "    }\n",
       "\n",
       "    .dataframe tbody tr th {\n",
       "        vertical-align: top;\n",
       "    }\n",
       "\n",
       "    .dataframe thead th {\n",
       "        text-align: right;\n",
       "    }\n",
       "</style>\n",
       "<table border=\"1\" class=\"dataframe\">\n",
       "  <thead>\n",
       "    <tr style=\"text-align: right;\">\n",
       "      <th></th>\n",
       "      <th>words_count</th>\n",
       "      <th>handwash</th>\n",
       "      <th>china</th>\n",
       "      <th>america</th>\n",
       "      <th>doctor</th>\n",
       "      <th>virus</th>\n",
       "      <th>trump</th>\n",
       "      <th>timestamp</th>\n",
       "      <th>user_verified</th>\n",
       "      <th>user_statuses_count</th>\n",
       "      <th>user_followers_count</th>\n",
       "      <th>user_friends_count</th>\n",
       "      <th>user_mentions</th>\n",
       "      <th>urls</th>\n",
       "      <th>hashtags</th>\n",
       "    </tr>\n",
       "  </thead>\n",
       "  <tbody>\n",
       "    <tr>\n",
       "      <th>0</th>\n",
       "      <td>4</td>\n",
       "      <td>0</td>\n",
       "      <td>0</td>\n",
       "      <td>0</td>\n",
       "      <td>0</td>\n",
       "      <td>0</td>\n",
       "      <td>0</td>\n",
       "      <td>5</td>\n",
       "      <td>0</td>\n",
       "      <td>68460</td>\n",
       "      <td>1101</td>\n",
       "      <td>1226</td>\n",
       "      <td>0</td>\n",
       "      <td>0</td>\n",
       "      <td>0</td>\n",
       "    </tr>\n",
       "    <tr>\n",
       "      <th>1</th>\n",
       "      <td>14</td>\n",
       "      <td>0</td>\n",
       "      <td>0</td>\n",
       "      <td>0</td>\n",
       "      <td>0</td>\n",
       "      <td>0</td>\n",
       "      <td>0</td>\n",
       "      <td>3</td>\n",
       "      <td>0</td>\n",
       "      <td>309</td>\n",
       "      <td>51</td>\n",
       "      <td>202</td>\n",
       "      <td>0</td>\n",
       "      <td>0</td>\n",
       "      <td>0</td>\n",
       "    </tr>\n",
       "    <tr>\n",
       "      <th>2</th>\n",
       "      <td>21</td>\n",
       "      <td>0</td>\n",
       "      <td>0</td>\n",
       "      <td>0</td>\n",
       "      <td>0</td>\n",
       "      <td>0</td>\n",
       "      <td>1</td>\n",
       "      <td>5</td>\n",
       "      <td>0</td>\n",
       "      <td>3241</td>\n",
       "      <td>1675</td>\n",
       "      <td>2325</td>\n",
       "      <td>0</td>\n",
       "      <td>0</td>\n",
       "      <td>0</td>\n",
       "    </tr>\n",
       "    <tr>\n",
       "      <th>3</th>\n",
       "      <td>16</td>\n",
       "      <td>0</td>\n",
       "      <td>0</td>\n",
       "      <td>0</td>\n",
       "      <td>0</td>\n",
       "      <td>0</td>\n",
       "      <td>0</td>\n",
       "      <td>2</td>\n",
       "      <td>0</td>\n",
       "      <td>32327</td>\n",
       "      <td>667</td>\n",
       "      <td>304</td>\n",
       "      <td>0</td>\n",
       "      <td>0</td>\n",
       "      <td>0</td>\n",
       "    </tr>\n",
       "    <tr>\n",
       "      <th>4</th>\n",
       "      <td>15</td>\n",
       "      <td>0</td>\n",
       "      <td>0</td>\n",
       "      <td>0</td>\n",
       "      <td>0</td>\n",
       "      <td>0</td>\n",
       "      <td>0</td>\n",
       "      <td>4</td>\n",
       "      <td>0</td>\n",
       "      <td>581</td>\n",
       "      <td>42</td>\n",
       "      <td>127</td>\n",
       "      <td>0</td>\n",
       "      <td>0</td>\n",
       "      <td>0</td>\n",
       "    </tr>\n",
       "  </tbody>\n",
       "</table>\n",
       "</div>"
      ],
      "text/plain": [
       "   words_count  handwash  china  america  doctor  virus  trump  timestamp  \\\n",
       "0            4         0      0        0       0      0      0          5   \n",
       "1           14         0      0        0       0      0      0          3   \n",
       "2           21         0      0        0       0      0      1          5   \n",
       "3           16         0      0        0       0      0      0          2   \n",
       "4           15         0      0        0       0      0      0          4   \n",
       "\n",
       "   user_verified  user_statuses_count  user_followers_count  \\\n",
       "0              0                68460                  1101   \n",
       "1              0                  309                    51   \n",
       "2              0                 3241                  1675   \n",
       "3              0                32327                   667   \n",
       "4              0                  581                    42   \n",
       "\n",
       "   user_friends_count  user_mentions  urls  hashtags  \n",
       "0                1226              0     0         0  \n",
       "1                 202              0     0         0  \n",
       "2                2325              0     0         0  \n",
       "3                 304              0     0         0  \n",
       "4                 127              0     0         0  "
      ]
     },
     "execution_count": 305,
     "metadata": {},
     "output_type": "execute_result"
    }
   ],
   "source": [
    "X = tweets.copy().drop('retweet_count', axis=1)\n",
    "y = tweets.retweet_count.copy()\n",
    "Z = eval_ds.copy()\n",
    "X = transform(X)\n",
    "Z = transform(Z)\n",
    "X.head()"
   ]
  },
  {
   "cell_type": "code",
   "execution_count": 306,
   "metadata": {},
   "outputs": [],
   "source": [
    "#X_train, X_test, y_train, y_test = train_test_split(X.copy(), y.copy(), test_size=0.3, random_state=3)\n",
    "X_train = X.copy()\n",
    "X_test = Z.copy() # for submissions\n",
    "y_train = y.copy()\n",
    "\n",
    "X_train_day = X_train.timestamp\n",
    "X_train.drop('timestamp', axis=1, inplace=True)\n",
    "X_test_day = X_test.timestamp\n",
    "X_test.drop('timestamp', axis=1, inplace=True)\n",
    "\n",
    "#X_train.drop('user_mentions', axis=1, inplace=True)\n",
    "#X_test.drop('user_mentions', axis=1, inplace=True)\n",
    "\n",
    "t1 = 10\n",
    "t2 = 600\n",
    "t3 = 3000\n",
    "y_train_class = y_train.apply(lambda x: 0 if x <= t1 else 1 if x <= t2 else 2 if x <= t3 else 3)"
   ]
  },
  {
   "cell_type": "code",
   "execution_count": 307,
   "metadata": {},
   "outputs": [
    {
     "name": "stdout",
     "output_type": "stream",
     "text": [
      "Wall time: 5min 41s\n"
     ]
    }
   ],
   "source": [
    "%%time\n",
    "from sklearn.ensemble import RandomForestClassifier\n",
    "\n",
    "rfc = RandomForestClassifier(random_state=2, n_estimators=300)\n",
    "rfc.fit(X_train, y_train_class)\n",
    "X_test_class = rfc.predict(X_test)"
   ]
  },
  {
   "cell_type": "code",
   "execution_count": 308,
   "metadata": {},
   "outputs": [],
   "source": [
    "upper_bound = 20000\n",
    "lower_bound = 1\n",
    "X_train_reg = X_train[y_train >= lower_bound]\n",
    "X_train_reg = X_train_reg[y_train[y_train >= lower_bound] < upper_bound]\n",
    "y_train_reg = y_train[y_train >= lower_bound]\n",
    "y_train_reg = y_train_reg[y_train[y_train >= lower_bound] < upper_bound]"
   ]
  },
  {
   "cell_type": "code",
   "execution_count": 309,
   "metadata": {},
   "outputs": [
    {
     "name": "stdout",
     "output_type": "stream",
     "text": [
      "Wall time: 6min 34s\n"
     ]
    }
   ],
   "source": [
    "%%time\n",
    "from sklearn.ensemble import RandomForestRegressor\n",
    "\n",
    "rfr = RandomForestRegressor(random_state=2, n_estimators=300)\n",
    "rfr.fit(X_train_reg, y_train_reg)\n",
    "y_pred = rfr.predict(X_test)\n",
    "tmp = y_pred.copy()"
   ]
  },
  {
   "cell_type": "code",
   "execution_count": 310,
   "metadata": {},
   "outputs": [],
   "source": [
    "y_pred = tmp.copy()"
   ]
  },
  {
   "cell_type": "code",
   "execution_count": 311,
   "metadata": {},
   "outputs": [],
   "source": [
    "y_pred[X_test_class == 0] = 0"
   ]
  },
  {
   "cell_type": "code",
   "execution_count": 312,
   "metadata": {},
   "outputs": [],
   "source": [
    "y_pred[X_test_class == 1] = (tmp[X_test_class == 1]**0.94) / 4.1"
   ]
  },
  {
   "cell_type": "code",
   "execution_count": 313,
   "metadata": {},
   "outputs": [],
   "source": [
    "y_pred[X_test_class == 2] = (tmp[X_test_class == 2]**1.16) / 6.2"
   ]
  },
  {
   "cell_type": "code",
   "execution_count": 314,
   "metadata": {},
   "outputs": [],
   "source": [
    "y_pred[X_test_class == 3] = (tmp[X_test_class == 3]**1.26) / 10.1"
   ]
  },
  {
   "cell_type": "code",
   "execution_count": 303,
   "metadata": {},
   "outputs": [
    {
     "name": "stdout",
     "output_type": "stream",
     "text": [
      "Prediction error on true datas : 142.6138791265264\n",
      "Constant zero prediction : 151.46727647771536\n",
      "8.85339735118896\n"
     ]
    }
   ],
   "source": [
    "mae = mean_absolute_error(y_true=y_test, y_pred=y_pred)\n",
    "print(\"Prediction error on true datas :\", mae)\n",
    "zero = mean_absolute_error(y_true=y_test, y_pred=y_pred*0)\n",
    "print(\"Constant zero prediction :\", zero)\n",
    "print(zero - mae) # 8.54137"
   ]
  },
  {
   "cell_type": "markdown",
   "metadata": {},
   "source": [
    "8.573968836720809 : clusters : 10 - 600 - 3000, upper lower : 20 000 - 1, div by 6.1 - 1.8 - 1.07 - n_esti = 120"
   ]
  },
  {
   "cell_type": "code",
   "execution_count": 296,
   "metadata": {},
   "outputs": [],
   "source": [
    "zero = mean_absolute_error(y_true=y_test, y_pred=y_pred*0)\n",
    "score = 0\n",
    "best_i, best_j = 0, 0\n",
    "for i in np.linspace(0.1, 2.1, 101):\n",
    "    for j in np.linspace(0.1, 10.1, 101):\n",
    "        y_pred = tmp.copy()\n",
    "        y_pred[X_test_class == 0] = 0\n",
    "        y_pred[X_test_class == 1] = (tmp[X_test_class == 1]**0.94) / 4.1\n",
    "        y_pred[X_test_class == 2] = tmp[X_test_class == 2]**1.16 / 6.2\n",
    "        y_pred[X_test_class == 3] = (tmp[X_test_class == 3]**i) / j\n",
    "        mae = mean_absolute_error(y_true=y_test, y_pred=y_pred)\n",
    "        new_score = zero - mae\n",
    "        if new_score > score:\n",
    "            score = new_score\n",
    "            best_i = i\n",
    "            best_j = j"
   ]
  },
  {
   "cell_type": "code",
   "execution_count": null,
   "metadata": {},
   "outputs": [],
   "source": []
  },
  {
   "cell_type": "code",
   "execution_count": 315,
   "metadata": {},
   "outputs": [],
   "source": [
    "def write_prediction_file(eval_data, y_pred):\n",
    "    with open(\"random_forests.txt\", 'w') as f:\n",
    "        writer = csv.writer(f)\n",
    "        writer.writerow([\"TweetID\", \"NoRetweets\"])\n",
    "        for index, prediction in enumerate(y_pred):\n",
    "            writer.writerow([str(eval_data['id'].iloc[index]) , str(int(prediction))])"
   ]
  },
  {
   "cell_type": "code",
   "execution_count": 316,
   "metadata": {},
   "outputs": [],
   "source": [
    "write_prediction_file(eval_ds, y_pred)"
   ]
  },
  {
   "cell_type": "code",
   "execution_count": null,
   "metadata": {},
   "outputs": [],
   "source": []
  }
 ],
 "metadata": {
  "kernelspec": {
   "display_name": "Python 3",
   "language": "python",
   "name": "python3"
  },
  "language_info": {
   "codemirror_mode": {
    "name": "ipython",
    "version": 3
   },
   "file_extension": ".py",
   "mimetype": "text/x-python",
   "name": "python",
   "nbconvert_exporter": "python",
   "pygments_lexer": "ipython3",
   "version": "3.8.3"
  }
 },
 "nbformat": 4,
 "nbformat_minor": 4
}
