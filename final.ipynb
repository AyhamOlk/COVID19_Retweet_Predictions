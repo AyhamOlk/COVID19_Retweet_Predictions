{
 "cells": [
  {
   "cell_type": "code",
   "execution_count": 1,
   "metadata": {},
   "outputs": [],
   "source": [
    "import csv\n",
    "import numpy as np\n",
    "import matplotlib.pyplot as plt\n",
    "import pandas as pd\n",
    "from sklearn.metrics import mean_absolute_error\n",
    "from sklearn.model_selection import cross_val_score\n",
    "from datetime import datetime"
   ]
  },
  {
   "cell_type": "code",
   "execution_count": 2,
   "metadata": {},
   "outputs": [],
   "source": [
    "tweets = pd.read_csv('data/train.csv')\n",
    "eval_ds = pd.read_csv('data/evaluation.csv')"
   ]
  },
  {
   "cell_type": "markdown",
   "metadata": {},
   "source": [
    "Cleaning the datas"
   ]
  },
  {
   "cell_type": "code",
   "execution_count": 3,
   "metadata": {},
   "outputs": [],
   "source": [
    "X = tweets.copy().drop('retweet_count', axis=1)\n",
    "y = tweets.retweet_count.copy()\n",
    "\n",
    "def day(t):\n",
    "    dt = datetime.fromtimestamp(t / 1000)\n",
    "    return dt.day\n",
    "\n",
    "def clean(df):\n",
    "    X = df.copy()\n",
    "    X.timestamp = X.timestamp.apply(day)\n",
    "    X.user_verified = X.user_verified.fillna(False).astype(int)\n",
    "    X.user_statuses_count = X.user_statuses_count.fillna(0)\n",
    "    X.user_followers_count = X.user_followers_count.fillna(0)\n",
    "    X.user_friends_count = X.user_friends_count.fillna(0)\n",
    "    X.user_mentions = X.user_mentions.fillna('').apply(lambda x: int(bool(x)))\n",
    "    X.hashtags = X.hashtags.fillna('').astype(bool).astype(int)\n",
    "    X.text = X.text.fillna('')\n",
    "    X.urls = X.urls.fillna('')\n",
    "    X.urls = X.urls.apply(lambda x: int(bool(x))) + X.text.apply(lambda x: int(bool('http' in x)))\n",
    "    X.urls = X.urls.apply(lambda x: 1 if x==2 else x)\n",
    "    return X\n",
    "\n",
    "X = clean(X)"
   ]
  },
  {
   "cell_type": "markdown",
   "metadata": {},
   "source": [
    "Insert a column for categories of words that get a high number of retweets"
   ]
  },
  {
   "cell_type": "code",
   "execution_count": 4,
   "metadata": {},
   "outputs": [],
   "source": [
    "def insert_or(words, title, df):\n",
    "    if title not in df.columns:\n",
    "        df.insert(0, title, df.text.apply(lambda x: int(bool([1 for w in words if w in x.lower()]))))\n",
    "        \n",
    "def insert_cat(df):\n",
    "    X = df.copy()\n",
    "    trump = ['president', 'trump', 'donald', 'dt']\n",
    "    insert_or(trump, 'trump', X)\n",
    "    virus = ['virus', 'corona', 'covid', 'sick', 'flu']\n",
    "    insert_or(virus, 'virus', X)\n",
    "    doctor = ['doctor', 'nurse', 'kid', 'hospital', 'administration', 'medical', 'save']\n",
    "    insert_or(doctor, 'doctor', X)\n",
    "    america = ['america', 'democrat']\n",
    "    insert_or(america, 'america', X)\n",
    "    china = ['chin', 'wuhan']\n",
    "    insert_or(china, 'china', X)\n",
    "    handwash = ['hand', 'wash']\n",
    "    insert_or(handwash, 'handwash', X)\n",
    "    return X\n",
    "\n",
    "X = insert_cat(X)\n",
    "\n",
    "if 'text' in X.columns:\n",
    "    X.insert(0, 'words_count', X.text.apply(lambda x: min(140, len(x.split(' ')))))\n",
    "    X.drop('text', axis=1, inplace=True)"
   ]
  },
  {
   "cell_type": "code",
   "execution_count": 5,
   "metadata": {},
   "outputs": [
    {
     "data": {
      "text/html": [
       "<div>\n",
       "<style scoped>\n",
       "    .dataframe tbody tr th:only-of-type {\n",
       "        vertical-align: middle;\n",
       "    }\n",
       "\n",
       "    .dataframe tbody tr th {\n",
       "        vertical-align: top;\n",
       "    }\n",
       "\n",
       "    .dataframe thead th {\n",
       "        text-align: right;\n",
       "    }\n",
       "</style>\n",
       "<table border=\"1\" class=\"dataframe\">\n",
       "  <thead>\n",
       "    <tr style=\"text-align: right;\">\n",
       "      <th></th>\n",
       "      <th>words_count</th>\n",
       "      <th>handwash</th>\n",
       "      <th>china</th>\n",
       "      <th>america</th>\n",
       "      <th>doctor</th>\n",
       "      <th>virus</th>\n",
       "      <th>trump</th>\n",
       "      <th>id</th>\n",
       "      <th>timestamp</th>\n",
       "      <th>user_verified</th>\n",
       "      <th>user_statuses_count</th>\n",
       "      <th>user_followers_count</th>\n",
       "      <th>user_friends_count</th>\n",
       "      <th>user_mentions</th>\n",
       "      <th>urls</th>\n",
       "      <th>hashtags</th>\n",
       "    </tr>\n",
       "  </thead>\n",
       "  <tbody>\n",
       "    <tr>\n",
       "      <th>0</th>\n",
       "      <td>4</td>\n",
       "      <td>0</td>\n",
       "      <td>0</td>\n",
       "      <td>0</td>\n",
       "      <td>0</td>\n",
       "      <td>0</td>\n",
       "      <td>0</td>\n",
       "      <td>0</td>\n",
       "      <td>5</td>\n",
       "      <td>0</td>\n",
       "      <td>68460</td>\n",
       "      <td>1101</td>\n",
       "      <td>1226</td>\n",
       "      <td>0</td>\n",
       "      <td>0</td>\n",
       "      <td>0</td>\n",
       "    </tr>\n",
       "  </tbody>\n",
       "</table>\n",
       "</div>"
      ],
      "text/plain": [
       "   words_count  handwash  china  america  doctor  virus  trump  id  timestamp  \\\n",
       "0            4         0      0        0       0      0      0   0          5   \n",
       "\n",
       "   user_verified  user_statuses_count  user_followers_count  \\\n",
       "0              0                68460                  1101   \n",
       "\n",
       "   user_friends_count  user_mentions  urls  hashtags  \n",
       "0                1226              0     0         0  "
      ]
     },
     "execution_count": 5,
     "metadata": {},
     "output_type": "execute_result"
    }
   ],
   "source": [
    "X.head(1)"
   ]
  },
  {
   "cell_type": "code",
   "execution_count": 15,
   "metadata": {},
   "outputs": [
    {
     "data": {
      "text/plain": [
       "count    77384.000000\n",
       "mean         7.314458\n",
       "std        320.201356\n",
       "min          0.000000\n",
       "25%          0.000000\n",
       "50%          0.000000\n",
       "75%          0.000000\n",
       "max      46675.000000\n",
       "Name: retweet_count, dtype: float64"
      ]
     },
     "execution_count": 15,
     "metadata": {},
     "output_type": "execute_result"
    }
   ],
   "source": [
    "y[X.timestamp == 2].describe()"
   ]
  },
  {
   "cell_type": "code",
   "execution_count": null,
   "metadata": {},
   "outputs": [],
   "source": [
    "%%time\n",
    "from sklearn.svm import LinearSVC\n",
    "from sklearn.preprocessing import StandardScaler\n",
    "from sklearn.pipeline import make_pipeline\n",
    "\n",
    "clf = make_pipeline(StandardScaler(), LinearSVC(penalty='l2', class_weight='balanced', random_state=0))\n",
    "clf.fit(X, y)\n",
    "scores_clf = cross_val_score(clf, X, y, cv=7)\n",
    "print(scores_clf)"
   ]
  },
  {
   "cell_type": "code",
   "execution_count": null,
   "metadata": {},
   "outputs": [],
   "source": [
    "from sklearn.ensemble import BaggingClassifier"
   ]
  },
  {
   "cell_type": "code",
   "execution_count": null,
   "metadata": {},
   "outputs": [],
   "source": [
    "from sklearn.ensemble import DecisionTreeClassifier\n",
    "seed = 8\n",
    "base_cls = DecisionTreeClassifier() \n",
    "\n",
    "# no. of base classifier \n",
    "num_trees = 500\n",
    "\n",
    "# bagging classifier \n",
    "model = BaggingClassifier(base_estimator = base_cls, \n",
    "                          n_estimators = num_trees, \n",
    "                          random_state = seed)\n"
   ]
  },
  {
   "cell_type": "code",
   "execution_count": null,
   "metadata": {},
   "outputs": [],
   "source": [
    "from sklearn.ensemble import RandomForestClassifier\n",
    "\n",
    "rfc = RandomForestClassifier()\n",
    "rfc.fit(X, y)\n",
    "scores = cross_val_score(rfc, X, y, cv=7)\n",
    "print(scores)"
   ]
  }
 ],
 "metadata": {
  "kernelspec": {
   "display_name": "Python 3",
   "language": "python",
   "name": "python3"
  },
  "language_info": {
   "codemirror_mode": {
    "name": "ipython",
    "version": 3
   },
   "file_extension": ".py",
   "mimetype": "text/x-python",
   "name": "python",
   "nbconvert_exporter": "python",
   "pygments_lexer": "ipython3",
   "version": "3.8.3"
  }
 },
 "nbformat": 4,
 "nbformat_minor": 4
}
