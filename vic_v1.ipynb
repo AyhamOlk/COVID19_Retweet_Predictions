{
 "cells": [
  {
   "cell_type": "code",
   "execution_count": 1,
   "metadata": {},
   "outputs": [],
   "source": [
    "import csv\n",
    "import numpy as np\n",
    "import pandas as pd\n",
    "from sklearn.metrics import mean_absolute_error\n",
    "from sklearn.model_selection import train_test_split\n",
    "from sklearn.linear_model import SGDRegressor\n",
    "from sklearn.linear_model import LinearRegression\n",
    "from sklearn.preprocessing import MinMaxScaler\n",
    "from scipy.stats import spearmanr\n",
    "from scipy.stats import pearsonr\n",
    "from datetime import datetime"
   ]
  },
  {
   "cell_type": "code",
   "execution_count": 2,
   "metadata": {},
   "outputs": [],
   "source": [
    "# Load the training data\n",
    "tweet_dataset = pd.read_csv(\"data/train.csv\")"
   ]
  },
  {
   "cell_type": "code",
   "execution_count": 3,
   "metadata": {},
   "outputs": [
    {
     "data": {
      "text/html": [
       "<div>\n",
       "<style scoped>\n",
       "    .dataframe tbody tr th:only-of-type {\n",
       "        vertical-align: middle;\n",
       "    }\n",
       "\n",
       "    .dataframe tbody tr th {\n",
       "        vertical-align: top;\n",
       "    }\n",
       "\n",
       "    .dataframe thead th {\n",
       "        text-align: right;\n",
       "    }\n",
       "</style>\n",
       "<table border=\"1\" class=\"dataframe\">\n",
       "  <thead>\n",
       "    <tr style=\"text-align: right;\">\n",
       "      <th></th>\n",
       "      <th>id</th>\n",
       "      <th>timestamp</th>\n",
       "      <th>retweet_count</th>\n",
       "      <th>user_verified</th>\n",
       "      <th>user_statuses_count</th>\n",
       "      <th>user_followers_count</th>\n",
       "      <th>user_friends_count</th>\n",
       "      <th>user_mentions</th>\n",
       "      <th>urls</th>\n",
       "      <th>hashtags</th>\n",
       "      <th>text</th>\n",
       "    </tr>\n",
       "  </thead>\n",
       "  <tbody>\n",
       "    <tr>\n",
       "      <th>0</th>\n",
       "      <td>0</td>\n",
       "      <td>1588696955143</td>\n",
       "      <td>0</td>\n",
       "      <td>False</td>\n",
       "      <td>68460</td>\n",
       "      <td>1101</td>\n",
       "      <td>1226</td>\n",
       "      <td>NaN</td>\n",
       "      <td>NaN</td>\n",
       "      <td>NaN</td>\n",
       "      <td>Smh I give up</td>\n",
       "    </tr>\n",
       "  </tbody>\n",
       "</table>\n",
       "</div>"
      ],
      "text/plain": [
       "   id      timestamp  retweet_count  user_verified  user_statuses_count  \\\n",
       "0   0  1588696955143              0          False                68460   \n",
       "\n",
       "   user_followers_count  user_friends_count user_mentions urls hashtags  \\\n",
       "0                  1101                1226           NaN  NaN      NaN   \n",
       "\n",
       "            text  \n",
       "0  Smh I give up  "
      ]
     },
     "execution_count": 3,
     "metadata": {},
     "output_type": "execute_result"
    }
   ],
   "source": [
    "tweet_dataset.head(1)"
   ]
  },
  {
   "cell_type": "code",
   "execution_count": 4,
   "metadata": {},
   "outputs": [
    {
     "data": {
      "text/html": [
       "<div>\n",
       "<style scoped>\n",
       "    .dataframe tbody tr th:only-of-type {\n",
       "        vertical-align: middle;\n",
       "    }\n",
       "\n",
       "    .dataframe tbody tr th {\n",
       "        vertical-align: top;\n",
       "    }\n",
       "\n",
       "    .dataframe thead th {\n",
       "        text-align: right;\n",
       "    }\n",
       "</style>\n",
       "<table border=\"1\" class=\"dataframe\">\n",
       "  <thead>\n",
       "    <tr style=\"text-align: right;\">\n",
       "      <th></th>\n",
       "      <th>mention_number</th>\n",
       "      <th>hashtag_number</th>\n",
       "      <th>size_text</th>\n",
       "      <th>timestamp</th>\n",
       "      <th>user_verified</th>\n",
       "      <th>user_followers_count</th>\n",
       "      <th>user_friends_count</th>\n",
       "    </tr>\n",
       "  </thead>\n",
       "  <tbody>\n",
       "    <tr>\n",
       "      <th>0</th>\n",
       "      <td>0</td>\n",
       "      <td>0</td>\n",
       "      <td>13</td>\n",
       "      <td>1122</td>\n",
       "      <td>0</td>\n",
       "      <td>1101</td>\n",
       "      <td>1226</td>\n",
       "    </tr>\n",
       "    <tr>\n",
       "      <th>1</th>\n",
       "      <td>0</td>\n",
       "      <td>0</td>\n",
       "      <td>69</td>\n",
       "      <td>135</td>\n",
       "      <td>0</td>\n",
       "      <td>51</td>\n",
       "      <td>202</td>\n",
       "    </tr>\n",
       "    <tr>\n",
       "      <th>2</th>\n",
       "      <td>0</td>\n",
       "      <td>0</td>\n",
       "      <td>99</td>\n",
       "      <td>84</td>\n",
       "      <td>0</td>\n",
       "      <td>1675</td>\n",
       "      <td>2325</td>\n",
       "    </tr>\n",
       "  </tbody>\n",
       "</table>\n",
       "</div>"
      ],
      "text/plain": [
       "   mention_number  hashtag_number  size_text  timestamp  user_verified  \\\n",
       "0               0               0         13       1122              0   \n",
       "1               0               0         69        135              0   \n",
       "2               0               0         99         84              0   \n",
       "\n",
       "   user_followers_count  user_friends_count  \n",
       "0                  1101                1226  \n",
       "1                    51                 202  \n",
       "2                  1675                2325  "
      ]
     },
     "execution_count": 4,
     "metadata": {},
     "output_type": "execute_result"
    }
   ],
   "source": [
    "X = tweet_dataset[['timestamp', 'user_verified', 'user_followers_count', 'user_friends_count']].copy()\n",
    "y = tweet_dataset['retweet_count'].copy()#\n",
    "\n",
    "# Converting the True / False values of user_verified into 1 / 0\n",
    "X['user_verified'] = (X['user_verified']).astype(int)\n",
    "\n",
    "# Converting timestamp in hour\n",
    "def timestamp_13_digits_to_mins(t):\n",
    "    dt = datetime.fromtimestamp(t / 1000)\n",
    "    return dt.hour * 60 + dt.minute\n",
    "\n",
    "X.timestamp = X.timestamp.apply(timestamp_13_digits_to_mins)\n",
    "\n",
    "# Adding extra features\n",
    "\n",
    "# size of the text\n",
    "X.insert(0, 'size_text', tweet_dataset.text.apply(lambda x: len(x)), True)\n",
    "\n",
    "# number of hashtags\n",
    "def count_hashtags_in_text(text):\n",
    "    return text.count('#')\n",
    "\n",
    "def count_hashtags(hashtags):\n",
    "    if type(hashtags) is str:\n",
    "        return len(hashtags.split(','))\n",
    "    return 0\n",
    "\n",
    "X.insert(0, 'hashtag_number', tweet_dataset.text.apply(count_hashtags_in_text, True))\n",
    "\n",
    "# number of mentions\n",
    "def count_mentions_in_text(text):\n",
    "    return text.count('@')\n",
    "\n",
    "X.insert(0, 'mention_number', tweet_dataset.text.apply(count_mentions_in_text, True))\n",
    "\n",
    "X.head(3)"
   ]
  },
  {
   "cell_type": "code",
   "execution_count": 5,
   "metadata": {},
   "outputs": [
    {
     "name": "stdout",
     "output_type": "stream",
     "text": [
      "size_text 0.718833034104086\n",
      "hashtag_number 0.5610912442719814\n",
      "user_followers_count 0.5571158977128619\n",
      "user_verified 0.48795218772539445\n",
      "mention_number 0.4531966426675053\n",
      "user_friends_count 0.14457479227322048\n",
      "timestamp -0.045878260587928786\n"
     ]
    }
   ],
   "source": [
    "corr_features1 = [(f, spearmanr(X[f], tweet_dataset.retweet_count).correlation) for f in X.columns]\n",
    "corr_features1.sort(key=lambda x: abs(x[1]))\n",
    "corr_features1.reverse()\n",
    "for f, c in corr_features1:\n",
    "    print(f, c)"
   ]
  },
  {
   "cell_type": "code",
   "execution_count": 6,
   "metadata": {},
   "outputs": [
    {
     "name": "stdout",
     "output_type": "stream",
     "text": [
      "user_followers_count 0.13285282331306936\n",
      "user_verified 0.05792252371025388\n",
      "size_text 0.03288040359219733\n",
      "user_friends_count 0.025327227979688026\n",
      "timestamp -0.0065666916824623734\n",
      "mention_number -0.0036770093961248163\n",
      "hashtag_number -0.003628897027931208\n"
     ]
    }
   ],
   "source": [
    "corr_features2 = [(f, X[f].corr(tweet_dataset.retweet_count)) for f in X.columns]\n",
    "corr_features2.sort(key=lambda x: abs(x[1]))\n",
    "corr_features2.reverse()\n",
    "for f, c in corr_features2:\n",
    "    print(f, c)"
   ]
  },
  {
   "cell_type": "code",
   "execution_count": 7,
   "metadata": {},
   "outputs": [
    {
     "data": {
      "text/html": [
       "<div>\n",
       "<style scoped>\n",
       "    .dataframe tbody tr th:only-of-type {\n",
       "        vertical-align: middle;\n",
       "    }\n",
       "\n",
       "    .dataframe tbody tr th {\n",
       "        vertical-align: top;\n",
       "    }\n",
       "\n",
       "    .dataframe thead th {\n",
       "        text-align: right;\n",
       "    }\n",
       "</style>\n",
       "<table border=\"1\" class=\"dataframe\">\n",
       "  <thead>\n",
       "    <tr style=\"text-align: right;\">\n",
       "      <th></th>\n",
       "      <th>mention_number</th>\n",
       "      <th>hashtag_number</th>\n",
       "      <th>size_text</th>\n",
       "      <th>timestamp</th>\n",
       "      <th>user_verified</th>\n",
       "      <th>user_followers_count</th>\n",
       "      <th>user_friends_count</th>\n",
       "    </tr>\n",
       "  </thead>\n",
       "  <tbody>\n",
       "    <tr>\n",
       "      <th>0</th>\n",
       "      <td>0.0</td>\n",
       "      <td>0.0</td>\n",
       "      <td>0.01217</td>\n",
       "      <td>0.779708</td>\n",
       "      <td>0.0</td>\n",
       "      <td>0.000009</td>\n",
       "      <td>0.000279</td>\n",
       "    </tr>\n",
       "  </tbody>\n",
       "</table>\n",
       "</div>"
      ],
      "text/plain": [
       "   mention_number  hashtag_number  size_text  timestamp  user_verified  \\\n",
       "0             0.0             0.0    0.01217   0.779708            0.0   \n",
       "\n",
       "   user_followers_count  user_friends_count  \n",
       "0              0.000009            0.000279  "
      ]
     },
     "execution_count": 7,
     "metadata": {},
     "output_type": "execute_result"
    }
   ],
   "source": [
    "# Center and normalize the datas\n",
    "X = X - X.mean()\n",
    "scaler = MinMaxScaler()\n",
    "X = pd.DataFrame(scaler.fit_transform(X), columns=X.columns)\n",
    "X.head(1)"
   ]
  },
  {
   "cell_type": "code",
   "execution_count": 8,
   "metadata": {},
   "outputs": [],
   "source": [
    "# Train test split\n",
    "X_train, X_test, y_train, y_test = train_test_split(X, y, test_size=0.3, random_state=42)"
   ]
  },
  {
   "cell_type": "markdown",
   "metadata": {},
   "source": [
    "Trying SGD regression"
   ]
  },
  {
   "cell_type": "code",
   "execution_count": 9,
   "metadata": {},
   "outputs": [
    {
     "name": "stdout",
     "output_type": "stream",
     "text": [
      "Wall time: 6.85 s\n"
     ]
    },
    {
     "data": {
      "text/plain": [
       "SGDRegressor(tol=0.0001)"
      ]
     },
     "execution_count": 9,
     "metadata": {},
     "output_type": "execute_result"
    }
   ],
   "source": [
    "reg = SGDRegressor(max_iter=1000, tol=1e-4)\n",
    "%time reg.fit(X_train, y_train)"
   ]
  },
  {
   "cell_type": "code",
   "execution_count": 10,
   "metadata": {
    "scrolled": true
   },
   "outputs": [
    {
     "name": "stdout",
     "output_type": "stream",
     "text": [
      "Prediction error: 258.07053881662614\n"
     ]
    },
    {
     "data": {
      "text/plain": [
       "0.018111863469909673"
      ]
     },
     "execution_count": 10,
     "metadata": {},
     "output_type": "execute_result"
    }
   ],
   "source": [
    "y_pred = reg.predict(X_test)\n",
    "y_pred = y_pred.astype(int)\n",
    "print(\"Prediction error:\", mean_absolute_error(y_true=y_test, y_pred=y_pred))\n",
    "reg.score(X_train, y_train)"
   ]
  },
  {
   "cell_type": "markdown",
   "metadata": {},
   "source": [
    "Trying linear regression"
   ]
  },
  {
   "cell_type": "code",
   "execution_count": 11,
   "metadata": {},
   "outputs": [
    {
     "name": "stdout",
     "output_type": "stream",
     "text": [
      "Wall time: 63.7 ms\n"
     ]
    },
    {
     "data": {
      "text/plain": [
       "LinearRegression()"
      ]
     },
     "execution_count": 11,
     "metadata": {},
     "output_type": "execute_result"
    }
   ],
   "source": [
    "lin_reg = LinearRegression()\n",
    "%time lin_reg.fit(X_train, y_train)"
   ]
  },
  {
   "cell_type": "code",
   "execution_count": 12,
   "metadata": {
    "scrolled": true
   },
   "outputs": [
    {
     "name": "stdout",
     "output_type": "stream",
     "text": [
      "Prediction error: 246.60315719907476\n"
     ]
    },
    {
     "data": {
      "text/plain": [
       "0.019040868316518855"
      ]
     },
     "execution_count": 12,
     "metadata": {},
     "output_type": "execute_result"
    }
   ],
   "source": [
    "y_pred = lin_reg.predict(X_test)\n",
    "y_pred = y_pred.astype(int)\n",
    "print(\"Prediction error:\", mean_absolute_error(y_true=y_test, y_pred=y_pred))\n",
    "lin_reg.score(X_train, y_train)"
   ]
  },
  {
   "cell_type": "code",
   "execution_count": 13,
   "metadata": {},
   "outputs": [
    {
     "name": "stdout",
     "output_type": "stream",
     "text": [
      "Prediction error spearman for top 1 features with SGD : 268.293840808275\n",
      "Prediction error spearman for top 1 features with LinReg : 263.4367308520332\n",
      "Prediction error pearson for top 1 features with SGD : 258.1407071404969\n",
      "Prediction error pearson for top 1 features with LinReh 252.6057306217269 \n",
      "\n",
      "Prediction error spearman for top 2 features with SGD : 249.87802277028447\n",
      "Prediction error spearman for top 2 features with LinReg : 265.5086915597745\n",
      "Prediction error pearson for top 2 features with SGD : 241.3662020487248\n",
      "Prediction error pearson for top 2 features with LinReh 247.2537725174482 \n",
      "\n",
      "Prediction error spearman for top 3 features with SGD : 261.18100573763104\n",
      "Prediction error spearman for top 3 features with LinReg : 249.2994382528763\n",
      "Prediction error pearson for top 3 features with SGD : 249.51422892446953\n",
      "Prediction error pearson for top 3 features with LinReh 244.917124775952 \n",
      "\n",
      "Prediction error spearman for top 4 features with SGD : 218.06041535241872\n",
      "Prediction error spearman for top 4 features with LinReg : 247.07303713939538\n",
      "Prediction error pearson for top 4 features with SGD : 236.55049716122443\n",
      "Prediction error pearson for top 4 features with LinReh 244.22514944876687 \n",
      "\n",
      "Prediction error spearman for top 5 features with SGD : 259.9445712798021\n",
      "Prediction error spearman for top 5 features with LinReg : 247.795548078945\n",
      "Prediction error pearson for top 5 features with SGD : 258.3408283016412\n",
      "Prediction error pearson for top 5 features with LinReh 244.1578899936916 \n",
      "\n",
      "Prediction error spearman for top 6 features with SGD : 262.73216878448335\n",
      "Prediction error spearman for top 6 features with LinReg : 247.20578869896963\n",
      "Prediction error pearson for top 6 features with SGD : 232.3409284348183\n",
      "Prediction error pearson for top 6 features with LinReh 244.88277909619794 \n",
      "\n",
      "Prediction error spearman for top 7 features with SGD : 275.42315279321497\n",
      "Prediction error spearman for top 7 features with LinReg : 247.2063995113501\n",
      "Prediction error pearson for top 7 features with SGD : 257.79819660147996\n",
      "Prediction error pearson for top 7 features with LinReh 247.2063995113501 \n",
      "\n",
      "Wall time: 1min 5s\n"
     ]
    }
   ],
   "source": [
    "%%time\n",
    "for k in range(1, len(corr_features1) + 1):\n",
    "    to_remove1 = corr_features1[k:]\n",
    "    to_remove2 = corr_features2[k:]\n",
    "    X1, X2 = X.copy(), X.copy()\n",
    "    for f, _ in to_remove1:\n",
    "        X1.drop(f, axis=1, inplace=True)\n",
    "    for f, _ in to_remove2:\n",
    "        X2.drop(f, axis=1, inplace=True)\n",
    "    # Center and normalize the datas\n",
    "    X1 = X1 - X1.mean()\n",
    "    scaler = MinMaxScaler()\n",
    "    X1 = pd.DataFrame(scaler.fit_transform(X1), columns=X1.columns)\n",
    "    \n",
    "    X2 = X2 - X2.mean()\n",
    "    scaler = MinMaxScaler()\n",
    "    X2 = pd.DataFrame(scaler.fit_transform(X2), columns=X2.columns)\n",
    "    \n",
    "    # Train test split\n",
    "    X1_train, X1_test, y1_train, y1_test = train_test_split(X1, y, test_size=0.3, random_state=1)\n",
    "    X2_train, X2_test, y2_train, y2_test = train_test_split(X2, y, test_size=0.3, random_state=1)\n",
    "    \n",
    "    reg = SGDRegressor(max_iter=1000, tol=1e-4)\n",
    "    reg.fit(X1_train, y1_train)\n",
    "    y_pred = reg.predict(X1_test)\n",
    "    y_pred = y_pred.astype(int)\n",
    "    print(\"Prediction error spearman for top\", k, \"features with SGD :\", mean_absolute_error(y_true=y1_test, y_pred=y_pred))\n",
    "    \n",
    "    lin_reg = LinearRegression()\n",
    "    lin_reg.fit(X1_train, y1_train)\n",
    "    y_pred = lin_reg.predict(X1_test)\n",
    "    y_pred = y_pred.astype(int)\n",
    "    print(\"Prediction error spearman for top\", k, \"features with LinReg :\", mean_absolute_error(y_true=y1_test, y_pred=y_pred))\n",
    "    \n",
    "    reg = SGDRegressor(max_iter=1000, tol=1e-4)\n",
    "    reg.fit(X2_train, y2_train)\n",
    "    y_pred = reg.predict(X2_test)\n",
    "    y_pred = y_pred.astype(int)\n",
    "    print(\"Prediction error pearson for top\", k, \"features with SGD :\", mean_absolute_error(y_true=y2_test, y_pred=y_pred))\n",
    "    \n",
    "    lin_reg = LinearRegression()\n",
    "    lin_reg.fit(X2_train, y2_train)\n",
    "    y_pred = lin_reg.predict(X2_test)\n",
    "    y_pred = y_pred.astype(int)\n",
    "    print(\"Prediction error pearson for top\", k, \"features with LinReh\", mean_absolute_error(y_true=y2_test, y_pred=y_pred), '\\n')"
   ]
  },
  {
   "cell_type": "code",
   "execution_count": 14,
   "metadata": {},
   "outputs": [],
   "source": [
    "def write_prediction_file(eval_data, y_pred):\n",
    "    with open(\"gbr_predictions.txt\", 'w') as f:\n",
    "        writer = csv.writer(f)\n",
    "        writer.writerow([\"TweetID\", \"NoRetweets\"])\n",
    "        for index, prediction in enumerate(y_pred):\n",
    "            writer.writerow([str(eval_data['id'].iloc[index]) , str(int(prediction))])"
   ]
  }
 ],
 "metadata": {
  "kernelspec": {
   "display_name": "Python 3",
   "language": "python",
   "name": "python3"
  },
  "language_info": {
   "codemirror_mode": {
    "name": "ipython",
    "version": 3
   },
   "file_extension": ".py",
   "mimetype": "text/x-python",
   "name": "python",
   "nbconvert_exporter": "python",
   "pygments_lexer": "ipython3",
   "version": "3.8.3"
  }
 },
 "nbformat": 4,
 "nbformat_minor": 4
}
