{
 "cells": [
  {
   "cell_type": "code",
   "execution_count": 2,
   "metadata": {},
   "outputs": [
    {
     "name": "stdout",
     "output_type": "stream",
     "text": [
      "Prediction error: 264.4361860665567\n"
     ]
    }
   ],
   "source": [
    "import csv\n",
    "import numpy as np\n",
    "import pandas as pd\n",
    "from sklearn.ensemble import GradientBoostingRegressor\n",
    "from sklearn.feature_extraction.text import TfidfVectorizer\n",
    "from sklearn.metrics import mean_absolute_error\n",
    "from verstack.stratified_continuous_split import scsplit # pip install verstack\n",
    "\n",
    "# Load the training data\n",
    "train_data = pd.read_csv(\"data/train.csv\")\n",
    "\n",
    "# Here we split our training data into trainig and testing set. This way we can estimate the evaluation of our model without uploading to Kaggle and avoid overfitting over our evaluation dataset.\n",
    "# scsplit method is used in order to split our regression data in a stratisfied way and keep a similar distribution of retweet counts between the two sets\n",
    "X_train, X_test, y_train, y_test = scsplit(train_data, train_data['retweet_count'], stratify=train_data['retweet_count'], train_size=0.7, test_size=0.3)\n",
    "\n",
    "# We remove the actual number of retweets from our features since it is the value that we are trying to predict\n",
    "X_train = X_train.drop(['retweet_count'], axis=1)\n",
    "X_test = X_test.drop(['retweet_count'], axis=1)\n",
    "\n",
    "# You can examine the available features using X_train.head()\n",
    "\n",
    "# We set up an Tfidf Vectorizer that will use the top 100 tokens from the tweets. We also remove stopwords.\n",
    "# To do that we have to fit our training dataset and then transform both the training and testing dataset. \n",
    "vectorizer = TfidfVectorizer(max_features=100, stop_words='english')\n",
    "X_train = vectorizer.fit_transform(X_train['text'])\n",
    "X_test = vectorizer.transform(X_test['text'])\n",
    "\n",
    "# Now we can train our model. Here we chose a Gradient Boosting Regressor and we set our loss function \n",
    "reg = GradientBoostingRegressor()\n",
    "# We fit our model using the training data\n",
    "reg.fit(X_train, y_train)\n",
    "# And then we predict the values for our testing set\n",
    "y_pred = reg.predict(X_test)\n",
    "print(\"Prediction error:\", mean_absolute_error(y_true=y_test, y_pred=y_pred))\n",
    "\n",
    "###################################\n",
    "# Once we finalized our features and model we can train it using the whole training set and then produce prediction for the evaluating dataset\n",
    "###################################\n",
    "# Load the evaluation data\n",
    "eval_data = pd.read_csv(\"data/evaluation.csv\")\n",
    "# Transform our data into tfidf vectors\n",
    "vectorizer = TfidfVectorizer(max_features=100, stop_words='english')\n",
    "y_train = train_data['retweet_count']\n",
    "X_train = vectorizer.fit_transform(train_data['text'])\n",
    "# We fit our model using the training data\n",
    "reg = GradientBoostingRegressor()\n",
    "reg.fit(X_train, y_train)\n",
    "X_val = vectorizer.transform(eval_data['text'])\n",
    "# Predict the number of retweets for the evaluation dataset\n",
    "y_pred = reg.predict(X_val)\n",
    "# Dump the results into a file that follows the required Kaggle template\n",
    "with open(\"gbr_predictions.txt\", 'w') as f:\n",
    "    writer = csv.writer(f)\n",
    "    writer.writerow([\"TweetID\", \"NoRetweets\"])\n",
    "    for index, prediction in enumerate(y_pred):\n",
    "        writer.writerow([str(eval_data['id'].iloc[index]) , str(int(prediction))])"
   ]
  },
  {
   "cell_type": "code",
   "execution_count": 55,
   "metadata": {},
   "outputs": [],
   "source": [
    "data = pd.read_csv(\"data/train.csv\")"
   ]
  },
  {
   "cell_type": "code",
   "execution_count": 80,
   "metadata": {},
   "outputs": [
    {
     "data": {
      "text/html": [
       "<div>\n",
       "<style scoped>\n",
       "    .dataframe tbody tr th:only-of-type {\n",
       "        vertical-align: middle;\n",
       "    }\n",
       "\n",
       "    .dataframe tbody tr th {\n",
       "        vertical-align: top;\n",
       "    }\n",
       "\n",
       "    .dataframe thead th {\n",
       "        text-align: right;\n",
       "    }\n",
       "</style>\n",
       "<table border=\"1\" class=\"dataframe\">\n",
       "  <thead>\n",
       "    <tr style=\"text-align: right;\">\n",
       "      <th></th>\n",
       "      <th>id</th>\n",
       "      <th>timestamp</th>\n",
       "      <th>retweet_count</th>\n",
       "      <th>user_verified</th>\n",
       "      <th>user_statuses_count</th>\n",
       "      <th>user_followers_count</th>\n",
       "      <th>user_friends_count</th>\n",
       "      <th>user_mentions</th>\n",
       "      <th>hashtags</th>\n",
       "      <th>text</th>\n",
       "    </tr>\n",
       "  </thead>\n",
       "  <tbody>\n",
       "    <tr>\n",
       "      <th>0</th>\n",
       "      <td>0</td>\n",
       "      <td>1588696955143</td>\n",
       "      <td>0</td>\n",
       "      <td>False</td>\n",
       "      <td>68460</td>\n",
       "      <td>1101</td>\n",
       "      <td>1226</td>\n",
       "      <td>NaN</td>\n",
       "      <td>NaN</td>\n",
       "      <td>Smh I give up</td>\n",
       "    </tr>\n",
       "    <tr>\n",
       "      <th>1</th>\n",
       "      <td>1</td>\n",
       "      <td>1588464948124</td>\n",
       "      <td>0</td>\n",
       "      <td>False</td>\n",
       "      <td>309</td>\n",
       "      <td>51</td>\n",
       "      <td>202</td>\n",
       "      <td>NaN</td>\n",
       "      <td>NaN</td>\n",
       "      <td>Most of us are Human Beings, but I think you m...</td>\n",
       "    </tr>\n",
       "    <tr>\n",
       "      <th>2</th>\n",
       "      <td>2</td>\n",
       "      <td>1588634673360</td>\n",
       "      <td>0</td>\n",
       "      <td>False</td>\n",
       "      <td>3241</td>\n",
       "      <td>1675</td>\n",
       "      <td>2325</td>\n",
       "      <td>NaN</td>\n",
       "      <td>NaN</td>\n",
       "      <td>Old dirty tricks Trump, at it again...like we ...</td>\n",
       "    </tr>\n",
       "    <tr>\n",
       "      <th>3</th>\n",
       "      <td>3</td>\n",
       "      <td>1588433158672</td>\n",
       "      <td>0</td>\n",
       "      <td>False</td>\n",
       "      <td>32327</td>\n",
       "      <td>667</td>\n",
       "      <td>304</td>\n",
       "      <td>NaN</td>\n",
       "      <td>NaN</td>\n",
       "      <td>Seriously..... I worked 86 hours my last check...</td>\n",
       "    </tr>\n",
       "    <tr>\n",
       "      <th>4</th>\n",
       "      <td>4</td>\n",
       "      <td>1588582751599</td>\n",
       "      <td>0</td>\n",
       "      <td>False</td>\n",
       "      <td>581</td>\n",
       "      <td>42</td>\n",
       "      <td>127</td>\n",
       "      <td>NaN</td>\n",
       "      <td>NaN</td>\n",
       "      <td>May ALMIGHTY ALLAH have mercy on us all. Only ...</td>\n",
       "    </tr>\n",
       "    <tr>\n",
       "      <th>...</th>\n",
       "      <td>...</td>\n",
       "      <td>...</td>\n",
       "      <td>...</td>\n",
       "      <td>...</td>\n",
       "      <td>...</td>\n",
       "      <td>...</td>\n",
       "      <td>...</td>\n",
       "      <td>...</td>\n",
       "      <td>...</td>\n",
       "      <td>...</td>\n",
       "    </tr>\n",
       "    <tr>\n",
       "      <th>665772</th>\n",
       "      <td>665772</td>\n",
       "      <td>1588412684317</td>\n",
       "      <td>0</td>\n",
       "      <td>False</td>\n",
       "      <td>65355</td>\n",
       "      <td>1984</td>\n",
       "      <td>1902</td>\n",
       "      <td>NaN</td>\n",
       "      <td>NaN</td>\n",
       "      <td>18 months dawg? Come on man...</td>\n",
       "    </tr>\n",
       "    <tr>\n",
       "      <th>665773</th>\n",
       "      <td>665773</td>\n",
       "      <td>1588324521711</td>\n",
       "      <td>1</td>\n",
       "      <td>False</td>\n",
       "      <td>1807</td>\n",
       "      <td>2029</td>\n",
       "      <td>347</td>\n",
       "      <td>StanfordEMED</td>\n",
       "      <td>COVID19</td>\n",
       "      <td>Thank you to all of the nurses in our @Stanfor...</td>\n",
       "    </tr>\n",
       "    <tr>\n",
       "      <th>665774</th>\n",
       "      <td>665774</td>\n",
       "      <td>1588353174952</td>\n",
       "      <td>8</td>\n",
       "      <td>False</td>\n",
       "      <td>888</td>\n",
       "      <td>85</td>\n",
       "      <td>257</td>\n",
       "      <td>NaN</td>\n",
       "      <td>NaN</td>\n",
       "      <td>'Post it' pearls for Palliative, End of Life a...</td>\n",
       "    </tr>\n",
       "    <tr>\n",
       "      <th>665775</th>\n",
       "      <td>665775</td>\n",
       "      <td>1588691378352</td>\n",
       "      <td>0</td>\n",
       "      <td>False</td>\n",
       "      <td>452</td>\n",
       "      <td>38</td>\n",
       "      <td>91</td>\n",
       "      <td>NaN</td>\n",
       "      <td>NaN</td>\n",
       "      <td>His facial expressions are kind of looking for...</td>\n",
       "    </tr>\n",
       "    <tr>\n",
       "      <th>665776</th>\n",
       "      <td>665776</td>\n",
       "      <td>1588432578764</td>\n",
       "      <td>0</td>\n",
       "      <td>False</td>\n",
       "      <td>590</td>\n",
       "      <td>184</td>\n",
       "      <td>238</td>\n",
       "      <td>NaN</td>\n",
       "      <td>NaN</td>\n",
       "      <td>We really can't wait.</td>\n",
       "    </tr>\n",
       "  </tbody>\n",
       "</table>\n",
       "<p>665777 rows × 10 columns</p>\n",
       "</div>"
      ],
      "text/plain": [
       "            id      timestamp  retweet_count  user_verified  \\\n",
       "0            0  1588696955143              0          False   \n",
       "1            1  1588464948124              0          False   \n",
       "2            2  1588634673360              0          False   \n",
       "3            3  1588433158672              0          False   \n",
       "4            4  1588582751599              0          False   \n",
       "...        ...            ...            ...            ...   \n",
       "665772  665772  1588412684317              0          False   \n",
       "665773  665773  1588324521711              1          False   \n",
       "665774  665774  1588353174952              8          False   \n",
       "665775  665775  1588691378352              0          False   \n",
       "665776  665776  1588432578764              0          False   \n",
       "\n",
       "        user_statuses_count  user_followers_count  user_friends_count  \\\n",
       "0                     68460                  1101                1226   \n",
       "1                       309                    51                 202   \n",
       "2                      3241                  1675                2325   \n",
       "3                     32327                   667                 304   \n",
       "4                       581                    42                 127   \n",
       "...                     ...                   ...                 ...   \n",
       "665772                65355                  1984                1902   \n",
       "665773                 1807                  2029                 347   \n",
       "665774                  888                    85                 257   \n",
       "665775                  452                    38                  91   \n",
       "665776                  590                   184                 238   \n",
       "\n",
       "       user_mentions hashtags  \\\n",
       "0                NaN      NaN   \n",
       "1                NaN      NaN   \n",
       "2                NaN      NaN   \n",
       "3                NaN      NaN   \n",
       "4                NaN      NaN   \n",
       "...              ...      ...   \n",
       "665772           NaN      NaN   \n",
       "665773  StanfordEMED  COVID19   \n",
       "665774           NaN      NaN   \n",
       "665775           NaN      NaN   \n",
       "665776           NaN      NaN   \n",
       "\n",
       "                                                     text  \n",
       "0                                           Smh I give up  \n",
       "1       Most of us are Human Beings, but I think you m...  \n",
       "2       Old dirty tricks Trump, at it again...like we ...  \n",
       "3       Seriously..... I worked 86 hours my last check...  \n",
       "4       May ALMIGHTY ALLAH have mercy on us all. Only ...  \n",
       "...                                                   ...  \n",
       "665772                     18 months dawg? Come on man...  \n",
       "665773  Thank you to all of the nurses in our @Stanfor...  \n",
       "665774  'Post it' pearls for Palliative, End of Life a...  \n",
       "665775  His facial expressions are kind of looking for...  \n",
       "665776                              We really can't wait.  \n",
       "\n",
       "[665777 rows x 10 columns]"
      ]
     },
     "execution_count": 80,
     "metadata": {},
     "output_type": "execute_result"
    }
   ],
   "source": [
    "data"
   ]
  },
  {
   "cell_type": "code",
   "execution_count": 68,
   "metadata": {},
   "outputs": [],
   "source": [
    "data.drop('urls', inplace=True, axis=1)"
   ]
  },
  {
   "cell_type": "code",
   "execution_count": 81,
   "metadata": {},
   "outputs": [
    {
     "data": {
      "text/plain": [
       "2743.131410367135"
      ]
     },
     "execution_count": 81,
     "metadata": {},
     "output_type": "execute_result"
    }
   ],
   "source": [
    "data.user_friends_count.mean()"
   ]
  },
  {
   "cell_type": "code",
   "execution_count": 78,
   "metadata": {},
   "outputs": [
    {
     "data": {
      "text/plain": [
       "<matplotlib.axes._subplots.AxesSubplot at 0x1afc42d8220>"
      ]
     },
     "execution_count": 78,
     "metadata": {},
     "output_type": "execute_result"
    },
    {
     "data": {
      "image/png": "[encoded data removed]",
      "text/plain": [
       "<Figure size 432x288 with 1 Axes>"
      ]
     },
     "metadata": {
      "needs_background": "light"
     },
     "output_type": "display_data"
    }
   ],
   "source": [
    "data.user_followers_count.plot()"
   ]
  },
  {
   "cell_type": "code",
   "execution_count": 76,
   "metadata": {},
   "outputs": [
    {
     "data": {
      "text/plain": [
       "<matplotlib.axes._subplots.AxesSubplot at 0x1afba0ebc10>"
      ]
     },
     "execution_count": 76,
     "metadata": {},
     "output_type": "execute_result"
    },
    {
     "data": {
      "image/png": "[encoded data removed]",
      "text/plain": [
       "<Figure size 432x288 with 1 Axes>"
      ]
     },
     "metadata": {
      "needs_background": "light"
     },
     "output_type": "display_data"
    }
   ],
   "source": [
    "data.retweet_count.plot()"
   ]
  }
 ],
 "metadata": {
  "kernelspec": {
   "display_name": "Python 3",
   "language": "python",
   "name": "python3"
  },
  "language_info": {
   "codemirror_mode": {
    "name": "ipython",
    "version": 3
   },
   "file_extension": ".py",
   "mimetype": "text/x-python",
   "name": "python",
   "nbconvert_exporter": "python",
   "pygments_lexer": "ipython3",
   "version": "3.8.3"
  }
 },
 "nbformat": 4,
 "nbformat_minor": 4
}
